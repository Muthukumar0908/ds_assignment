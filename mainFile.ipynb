{
 "cells": [
  {
   "cell_type": "code",
   "execution_count": 1,
   "metadata": {},
   "outputs": [],
   "source": [
    "import pandas as pd\n",
    "import numpy as np\n",
    "import json\n",
    "from sklearn.preprocessing import MinMaxScaler\n",
    "from sklearn.feature_extraction.text import HashingVectorizer\n",
    "import matplotlib.pyplot as plt\n",
    "import plotly.express as px\n",
    "import seaborn as sns\n",
    "from sklearn.preprocessing import OrdinalEncoder\n",
    "import pandas as pd\n",
    "from sklearn.ensemble import RandomForestRegressor\n",
    "from sklearn.decomposition import PCA\n",
    "from sklearn.preprocessing import StandardScaler"
   ]
  },
  {
   "cell_type": "markdown",
   "metadata": {},
   "source": [
    "import json file"
   ]
  },
  {
   "cell_type": "code",
   "execution_count": 2,
   "metadata": {},
   "outputs": [],
   "source": [
    "with open(\"E:\\\\denDriver.ai\\\\main\\\\algoparams_from_ui json.json\",'r') as file:\n",
    "    # text= file.read()\n",
    "    text = file.read().replace('\\n','')\n",
    "    iris_dict= json.loads(text)"
   ]
  },
  {
   "cell_type": "code",
   "execution_count": 3,
   "metadata": {},
   "outputs": [],
   "source": [
    "iris_data_path=iris_dict['design_state_data']['session_info']['dataset']"
   ]
  },
  {
   "cell_type": "code",
   "execution_count": 4,
   "metadata": {},
   "outputs": [],
   "source": [
    "iris_data=pd.read_csv(iris_data_path)"
   ]
  },
  {
   "cell_type": "markdown",
   "metadata": {},
   "source": [
    "Target column"
   ]
  },
  {
   "cell_type": "code",
   "execution_count": 5,
   "metadata": {},
   "outputs": [],
   "source": [
    "target_Type=iris_dict['design_state_data'][\"target\"]['prediction_type']"
   ]
  },
  {
   "cell_type": "code",
   "execution_count": 6,
   "metadata": {},
   "outputs": [
    {
     "name": "stdout",
     "output_type": "stream",
     "text": [
      "new data added\n"
     ]
    }
   ],
   "source": [
    "if target_Type in \"Regression\":\n",
    "    print(\"new data added\")\n",
    "else:\n",
    "    pass"
   ]
  },
  {
   "cell_type": "code",
   "execution_count": 7,
   "metadata": {},
   "outputs": [],
   "source": [
    "def training_data(Traing_split_data):\n",
    "    if Traing_split_data in 'No sampling(whole data)':\n",
    "        return \"No data split\""
   ]
  },
  {
   "cell_type": "markdown",
   "metadata": {},
   "source": [
    "# Encoding data for text to int"
   ]
  },
  {
   "cell_type": "code",
   "execution_count": 8,
   "metadata": {},
   "outputs": [],
   "source": [
    "def encoding_method(data):\n",
    "    df = data\n",
    "    enc=OrdinalEncoder()\n",
    "    for i in df.columns:\n",
    "        if df[i].dtype == 'object':\n",
    "            col_name = i\n",
    "            df[i] = enc.fit_transform(df[[i]])\n",
    "            encoding = df[i].sort_values().unique()\n",
    "            globals()[i] = {}\n",
    "            decoded_data = enc.inverse_transform(df[[i]])\n",
    "            decoded = sorted(np.unique(decoded_data)) \n",
    "            globals()[i] = dict(zip(decoded, encoding))\n",
    "            return df"
   ]
  },
  {
   "cell_type": "markdown",
   "metadata": {},
   "source": [
    "# Feature imprtant using some regression alg "
   ]
  },
  {
   "cell_type": "code",
   "execution_count": 9,
   "metadata": {},
   "outputs": [],
   "source": [
    "def Regression():\n",
    "    encoded= encoding_method(iris_data)\n",
    "    target_column=iris_dict['design_state_data'][\"target\"]['target']\n",
    "    y=encoded.drop(columns=target_column)\n",
    "    x=encoded[target_column]\n",
    "    Traing_split_data=iris_dict['design_state_data'][\"train\"]['sampling_method']\n",
    "    train = training_data(Traing_split_data)\n",
    "    return x,y"
   ]
  },
  {
   "cell_type": "code",
   "execution_count": 10,
   "metadata": {},
   "outputs": [],
   "source": [
    "def Classification():\n",
    "    F1_Score=iris_dict['design_state_data'][\"metrics\"]['optimize_threshold_for']\n",
    "    "
   ]
  },
  {
   "cell_type": "markdown",
   "metadata": {},
   "source": [
    "# Text Data token "
   ]
  },
  {
   "cell_type": "code",
   "execution_count": 35,
   "metadata": {},
   "outputs": [],
   "source": [
    "\n",
    "def tokenize_and_hash(text_series, n_features=20):\n",
    "    vectorizer = HashingVectorizer(n_features=n_features, alternate_sign=False)\n",
    "    hashed_features = vectorizer.transform(text_series)\n",
    "    return hashed_features"
   ]
  },
  {
   "cell_type": "code",
   "execution_count": null,
   "metadata": {},
   "outputs": [],
   "source": [
    "# def feature_Handling():\n",
    "#     column=[i for i in iris_data.columns[0:]]\n",
    "#     for i in column:\n",
    "#         feature=iris_dict['design_state_data'][\"feature_handling\"][i]['is_selected']\n",
    "#         column_name=iris_dict['design_state_data'][\"feature_handling\"][i]['feature_name']\n",
    "#         if feature in \"True\":\n",
    "#             type_csv=iris_data[column_name].dtype.name\n",
    "#             feature_variable_type=iris_dict['design_state_data'][\"feature_handling\"][i]['feature_variable_type']\n",
    "#             if (type_csv == \"int\" or type_csv == \"float64\") and feature_variable_type == \"numerical\":\n",
    "#                 print(\"Feature_Variable_type: column type is same\")\n",
    "#                 rescaling=iris_dict['design_state_data'][\"feature_handling\"][i]['feature_details']['rescaling']\n",
    "#                 Impute_with=iris_dict['design_state_data'][\"feature_handling\"][i]['feature_details']['impute_with']\n",
    "#                 Impute_value=iris_dict['design_state_data'][\"feature_handling\"][i]['feature_details']['impute_value']\n",
    "#                 if rescaling in \"No rescaling\":\n",
    "#                     print(f\"Rescaling: {column_name} - This column has no rescaling\")\n",
    "#                 else:\n",
    "#                     scaler = MinMaxScaler()\n",
    "#                     iris_data[column_name] = scaler.fit_transform(iris_data[column_name])\n",
    "#                 if Impute_with == 'Average of values':\n",
    "#                     average_value = iris_data['column_name'].mean()\n",
    "#                     value=round(average_value,2)\n",
    "#                     print(f\"Average Value: {value}\")\n",
    "#                 else:\n",
    "#                     pass\n",
    "#                 iris_data.fillna(Impute_value, inplace=True)\n",
    "#                 print(f\"Impute_value: Fill the all nan value is {Impute_value}\")\n",
    "#             else:\n",
    "#                 pass\n",
    "\n",
    "            \n",
    "        "
   ]
  },
  {
   "cell_type": "markdown",
   "metadata": {},
   "source": [
    "some time the hash_columns value is one or one above the column automatically generated in tokenize. im set the limit is 20 column so automatically generated in 20 columns"
   ]
  },
  {
   "cell_type": "code",
   "execution_count": 36,
   "metadata": {},
   "outputs": [
    {
     "name": "stdout",
     "output_type": "stream",
     "text": [
      "Feature_Variable_type: column type is same\n",
      "Rescaling: sepal_length - This column has no rescaling\n",
      "Average Value: 5.84\n",
      "Impute_value: Fill the all nan value is 0\n",
      "Feature_Variable_type: column type is same\n",
      "Rescaling: sepal_width - This column has no rescaling\n",
      "Impute_value: Fill the all nan value is -1\n",
      "Feature_Variable_type: column type is same\n",
      "Rescaling: petal_length - This column has no rescaling\n",
      "Average Value: 3.76\n",
      "Impute_value: Fill the all nan value is 0\n",
      "Feature_Variable_type: column type is same\n",
      "Rescaling: petal_width - This column has no rescaling\n",
      "Impute_value: Fill the all nan value is -2\n"
     ]
    }
   ],
   "source": [
    "\n",
    "column=[i for i in iris_data.columns[0:]]\n",
    "for i in column:\n",
    "    # print(i)\n",
    "    feature=iris_dict['design_state_data'][\"feature_handling\"][i]['is_selected']\n",
    "    # print(feature)\n",
    "    column_name=iris_dict['design_state_data'][\"feature_handling\"][i]['feature_name']\n",
    "    # print(column_name)\n",
    "    if feature == True:\n",
    "        type_csv=iris_data[column_name].dtype.name\n",
    "        # print(type_csv)\n",
    "        feature_variable_type=iris_dict['design_state_data'][\"feature_handling\"][i]['feature_variable_type']\n",
    "        if (type_csv == \"int\" or type_csv == \"float64\") and feature_variable_type == \"numerical\":\n",
    "            print(\"Feature_Variable_type: column type is same\")\n",
    "            rescaling=iris_dict['design_state_data'][\"feature_handling\"][i]['feature_details']['rescaling']\n",
    "            Impute_with=iris_dict['design_state_data'][\"feature_handling\"][i]['feature_details']['impute_with']\n",
    "            Impute_value=iris_dict['design_state_data'][\"feature_handling\"][i]['feature_details']['impute_value']\n",
    "            if rescaling in \"No rescaling\":\n",
    "                print(f\"Rescaling: {column_name} - This column has no rescaling\")\n",
    "            else:\n",
    "                scaler = MinMaxScaler()\n",
    "                iris_data[column_name] = scaler.fit_transform(iris_data[column_name])\n",
    "            if Impute_with == 'Average of values':\n",
    "                average_value = iris_data[column_name].mean()\n",
    "                value=round(average_value,2)\n",
    "                print(f\"Average Value: {value}\")\n",
    "            else:\n",
    "                pass\n",
    "            iris_data.fillna(Impute_value, inplace=True)\n",
    "            print(f\"Impute_value: Fill the all nan value is {Impute_value}\")\n",
    "        else:\n",
    "            if (type_csv == \"object\") and feature_variable_type == \"text\":\n",
    "                \n",
    "                text_handling=iris_dict['design_state_data'][\"feature_handling\"]['species']['feature_details']['text_handling']\n",
    "                hash_columns=iris_dict['design_state_data'][\"feature_handling\"]['species']['feature_details']['hash_columns']\n",
    "                \n",
    "                if text_handling == 'Tokenize and hash':\n",
    "                    hashed_features = tokenize_and_hash(iris_data[column_name])\n",
    "                    hashed_df = pd.DataFrame(hashed_features.toarray())\n",
    "                    print(hashed_df)\n",
    "                    if hash_columns == 0:\n",
    "                        iris_new_data = pd.concat([iris_data, hashed_df], axis=1)\n",
    "                        print(iris_new_data)\n",
    "                    else:\n",
    "                        iris_new_data = pd.concat([iris_data, hashed_df.iloc[:, :hash_columns]], axis=1)\n",
    "                        print(iris_new_data)"
   ]
  },
  {
   "cell_type": "markdown",
   "metadata": {},
   "source": [
    "this is number 3 question im create the json for question formet "
   ]
  },
  {
   "cell_type": "code",
   "execution_count": 38,
   "metadata": {},
   "outputs": [
    {
     "data": {
      "text/plain": [
       "{'feature_reduction_method': 'Correlation with target',\n",
       " 'No Reduction': {'is_selected': True, 'num_of_features_to_keep': 5},\n",
       " 'Correlation with target': {'is_selected': True,\n",
       "  'num_of_features_to_keep': 0},\n",
       " 'Tree-based': {'is_selected': False,\n",
       "  'num_of_features_to_keep': 0,\n",
       "  'depth_of_trees': 0,\n",
       "  'num_of_trees': 0},\n",
       " 'Principal Component Analysis': {'is_selected': False,\n",
       "  'num_of_features_to_keep': 0}}"
      ]
     },
     "execution_count": 38,
     "metadata": {},
     "output_type": "execute_result"
    }
   ],
   "source": [
    "feature_reduction=iris_dict['design_state_data'][\"feature_reduction\"]\n",
    "feature_reduction"
   ]
  },
  {
   "cell_type": "code",
   "execution_count": 39,
   "metadata": {},
   "outputs": [
    {
     "data": {
      "image/png": "[encoded data removed]",
      "text/plain": [
       "<Figure size 1600x600 with 1 Axes>"
      ]
     },
     "metadata": {},
     "output_type": "display_data"
    }
   ],
   "source": [
    "plt.figure(figsize=(16,6))\n",
    "sns.boxplot(iris_data)\n",
    "plt.show()"
   ]
  },
  {
   "cell_type": "markdown",
   "metadata": {},
   "source": [
    "some time the value are changes automatically no_reducation and correlation in target value and tree based value is automatically change the output "
   ]
  },
  {
   "cell_type": "code",
   "execution_count": 40,
   "metadata": {},
   "outputs": [
    {
     "name": "stdout",
     "output_type": "stream",
     "text": [
      "Unknown feature reduction method: feature_reduction_method\n",
      "Empty DataFrame\n",
      "Columns: []\n",
      "Index: [0, 1, 2, 3, 4, 5, 6, 7, 8, 9, 10, 11, 12, 13, 14, 15, 16, 17, 18, 19, 20, 21, 22, 23, 24, 25, 26, 27, 28, 29, 30, 31, 32, 33, 34, 35, 36, 37, 38, 39, 40, 41, 42, 43, 44, 45, 46, 47, 48, 49, 50, 51, 52, 53, 54, 55, 56, 57, 58, 59, 60, 61, 62, 63, 64, 65, 66, 67, 68, 69, 70, 71, 72, 73, 74, 75, 76, 77, 78, 79, 80, 81, 82, 83, 84, 85, 86, 87, 88, 89, 90, 91, 92, 93, 94, 95, 96, 97, 98, 99, ...]\n",
      "\n",
      "[150 rows x 0 columns]\n",
      "num_of_features_to_keep is zero\n",
      "{'No Reduction':      sepal_length  sepal_width  petal_length  petal_width  species\n",
      "0             5.1          3.5           1.4          0.2      0.0\n",
      "1             4.9          3.0           1.4          0.2      0.0\n",
      "2             4.7          3.2           1.3          0.2      0.0\n",
      "3             4.6          3.1           1.5          0.2      0.0\n",
      "4             5.0          3.6           1.4          0.2      0.0\n",
      "..            ...          ...           ...          ...      ...\n",
      "145           6.7          3.0           5.2          2.3      2.0\n",
      "146           6.3          2.5           5.0          1.9      2.0\n",
      "147           6.5          3.0           5.2          2.0      2.0\n",
      "148           6.2          3.4           5.4          2.3      2.0\n",
      "149           5.9          3.0           5.1          1.8      2.0\n",
      "\n",
      "[150 rows x 5 columns], 'Correlation with target': Empty DataFrame\n",
      "Columns: []\n",
      "Index: [0, 1, 2, 3, 4, 5, 6, 7, 8, 9, 10, 11, 12, 13, 14, 15, 16, 17, 18, 19, 20, 21, 22, 23, 24, 25, 26, 27, 28, 29, 30, 31, 32, 33, 34, 35, 36, 37, 38, 39, 40, 41, 42, 43, 44, 45, 46, 47, 48, 49, 50, 51, 52, 53, 54, 55, 56, 57, 58, 59, 60, 61, 62, 63, 64, 65, 66, 67, 68, 69, 70, 71, 72, 73, 74, 75, 76, 77, 78, 79, 80, 81, 82, 83, 84, 85, 86, 87, 88, 89, 90, 91, 92, 93, 94, 95, 96, 97, 98, 99, ...]\n",
      "\n",
      "[150 rows x 0 columns], 'Tree-based': 'No Correlation with the target', 'Principal Component Analysis':      sepal_length  sepal_width  petal_length  petal_width  species\n",
      "0             5.1          3.5           1.4          0.2      0.0\n",
      "1             4.9          3.0           1.4          0.2      0.0\n",
      "2             4.7          3.2           1.3          0.2      0.0\n",
      "3             4.6          3.1           1.5          0.2      0.0\n",
      "4             5.0          3.6           1.4          0.2      0.0\n",
      "..            ...          ...           ...          ...      ...\n",
      "145           6.7          3.0           5.2          2.3      2.0\n",
      "146           6.3          2.5           5.0          1.9      2.0\n",
      "147           6.5          3.0           5.2          2.0      2.0\n",
      "148           6.2          3.4           5.4          2.3      2.0\n",
      "149           5.9          3.0           5.1          1.8      2.0\n",
      "\n",
      "[150 rows x 5 columns]}\n"
     ]
    },
    {
     "data": {
      "text/plain": [
       "<Figure size 1000x800 with 0 Axes>"
      ]
     },
     "metadata": {},
     "output_type": "display_data"
    }
   ],
   "source": [
    "key =feature_reduction.keys()\n",
    "results = {}\n",
    "\n",
    "for i in key:\n",
    "    if i == \"No Reduction\":\n",
    "        if feature_reduction['No Reduction']['is_selected']:\n",
    "            num_to_keep = feature_reduction['No Reduction']['num_of_features_to_keep']\n",
    "            results['No Reduction'] = iris_data.iloc[:, :num_to_keep]\n",
    "        else:\n",
    "            results['No Reduction'] = \"No Reduction\"\n",
    "    \n",
    "    elif i == \"Correlation with target\":\n",
    "        if feature_reduction['Correlation with target']['is_selected']:\n",
    "            num_to_keep = feature_reduction['Correlation with target']['num_of_features_to_keep']\n",
    "            selected_features = iris_data.columns[:num_to_keep]\n",
    "            selected_data = iris_data[selected_features]\n",
    "            print(selected_data)\n",
    "            try:\n",
    "                plt.figure(figsize=(10, 8))\n",
    "                sns.heatmap(selected_data.corr(), annot=True, cmap=\"coolwarm\", fmt=\".2f\")\n",
    "                plt.show()\n",
    "            except:\n",
    "                print(\"num_of_features_to_keep is zero\")\n",
    "            results['Correlation with target'] = selected_data\n",
    "        else:\n",
    "            results['Correlation with target'] = \"No Correlation with the target\"\n",
    "    \n",
    "    elif i == \"Tree-based\":\n",
    "        if feature_reduction[\"Tree-based\"]['is_selected'] == True:\n",
    "            clf = RandomForestRegressor(max_depth=feature_reduction[\"Tree-based\"]['depth_of_trees'],\n",
    "                                        n_estimators=feature_reduction[\"Tree-based\"]['num_of_trees'])\n",
    "            Traing_data=Regression()\n",
    "            y=Traing_data[0]\n",
    "            x=Traing_data[1]\n",
    "            clf.fit(x,y)\n",
    "            feature_importances = clf.feature_importances_\n",
    "            print(feature_importances)\n",
    "            num_features_to_keep = feature_reduction[\"Tree-based\"]['num_of_features_to_keep']\n",
    "            selected_features_indices = feature_importances.argsort()[::-1][:num_features_to_keep]\n",
    "            selected_features = iris_data.columns[selected_features_indices]\n",
    "            print(selected_features) \n",
    "            results['Tree-based'] = (feature_importances, selected_features)\n",
    "        else:\n",
    "            results['Tree-based'] = \"No Correlation with the target\"\n",
    "    \n",
    "    elif i == \"Principal Component Analysis\":\n",
    "        if feature_reduction[\"Principal Component Analysis\"]['is_selected']:\n",
    "            results['Principal Component Analysis'] = iris_data\n",
    "        else:\n",
    "            results['Principal Component Analysis'] = iris_data\n",
    "    \n",
    "    else:\n",
    "        print(f\"Unknown feature reduction method: {i}\")\n",
    "    \n",
    "print(results)\n",
    "\n"
   ]
  },
  {
   "cell_type": "code",
   "execution_count": 19,
   "metadata": {},
   "outputs": [
    {
     "name": "stdout",
     "output_type": "stream",
     "text": [
      "No Reduction:      sepal_length  sepal_width  petal_length  petal_width         species\n",
      "0             5.1          3.5           1.4          0.2     Iris-setosa\n",
      "1             4.9          3.0           1.4          0.2     Iris-setosa\n",
      "2             4.7          3.2           1.3          0.2     Iris-setosa\n",
      "3             4.6          3.1           1.5          0.2     Iris-setosa\n",
      "4             5.0          3.6           1.4          0.2     Iris-setosa\n",
      "..            ...          ...           ...          ...             ...\n",
      "145           6.7          3.0           5.2          2.3  Iris-virginica\n",
      "146           6.3          2.5           5.0          1.9  Iris-virginica\n",
      "147           6.5          3.0           5.2          2.0  Iris-virginica\n",
      "148           6.2          3.4           5.4          2.3  Iris-virginica\n",
      "149           5.9          3.0           5.1          1.8  Iris-virginica\n",
      "\n",
      "[150 rows x 5 columns]\n",
      "Correlation with target: Empty DataFrame\n",
      "Columns: []\n",
      "Index: [0, 1, 2, 3, 4, 5, 6, 7, 8, 9, 10, 11, 12, 13, 14, 15, 16, 17, 18, 19, 20, 21, 22, 23, 24, 25, 26, 27, 28, 29, 30, 31, 32, 33, 34, 35, 36, 37, 38, 39, 40, 41, 42, 43, 44, 45, 46, 47, 48, 49, 50, 51, 52, 53, 54, 55, 56, 57, 58, 59, 60, 61, 62, 63, 64, 65, 66, 67, 68, 69, 70, 71, 72, 73, 74, 75, 76, 77, 78, 79, 80, 81, 82, 83, 84, 85, 86, 87, 88, 89, 90, 91, 92, 93, 94, 95, 96, 97, 98, 99, ...]\n",
      "\n",
      "[150 rows x 0 columns]\n",
      "Tree-based: (array([0.00842999, 0.01976817, 0.40003132, 0.57177051]), Index(['petal_width', 'petal_length', 'sepal_width'], dtype='object'))\n",
      "Principal Component Analysis:      sepal_length  sepal_width  petal_length  petal_width  species\n",
      "0             5.1          3.5           1.4          0.2      0.0\n",
      "1             4.9          3.0           1.4          0.2      0.0\n",
      "2             4.7          3.2           1.3          0.2      0.0\n",
      "3             4.6          3.1           1.5          0.2      0.0\n",
      "4             5.0          3.6           1.4          0.2      0.0\n",
      "..            ...          ...           ...          ...      ...\n",
      "145           6.7          3.0           5.2          2.3      2.0\n",
      "146           6.3          2.5           5.0          1.9      2.0\n",
      "147           6.5          3.0           5.2          2.0      2.0\n",
      "148           6.2          3.4           5.4          2.3      2.0\n",
      "149           5.9          3.0           5.1          1.8      2.0\n",
      "\n",
      "[150 rows x 5 columns]\n"
     ]
    }
   ],
   "source": [
    "for key, value in results.items():\n",
    "    print(f\"{key}: {value}\")\n",
    "\n",
    "# If the 'No Reduction' method is selected, you can access the reduced data like this:\n",
    "if feature_reduction['No Reduction']['is_selected']:\n",
    "    reduced_data = results['No Reduction']\n",
    "    reduced_data"
   ]
  },
  {
   "cell_type": "markdown",
   "metadata": {},
   "source": [
    "check the output valuess"
   ]
  },
  {
   "cell_type": "code",
   "execution_count": null,
   "metadata": {},
   "outputs": [],
   "source": []
  },
  {
   "cell_type": "code",
   "execution_count": null,
   "metadata": {},
   "outputs": [],
   "source": []
  },
  {
   "cell_type": "code",
   "execution_count": null,
   "metadata": {},
   "outputs": [],
   "source": []
  },
  {
   "cell_type": "code",
   "execution_count": null,
   "metadata": {},
   "outputs": [],
   "source": []
  },
  {
   "cell_type": "code",
   "execution_count": null,
   "metadata": {},
   "outputs": [],
   "source": []
  },
  {
   "cell_type": "code",
   "execution_count": null,
   "metadata": {},
   "outputs": [],
   "source": []
  },
  {
   "cell_type": "code",
   "execution_count": 19,
   "metadata": {},
   "outputs": [],
   "source": [
    "# def perform_feature_reduction(data, feature_reduction):\n",
    "#     # key =feature_reduction.keys()\n",
    "#     key=['No Reduction', 'Correlation with target', 'Tree-based', 'Principal Component Analysis']\n",
    "#     for  i in key:\n",
    "#         if i == \"No Reduction\":\n",
    "#             if feature_reduction['No Reduction']['is_selected'] == True:\n",
    "#                 num_to_keep = feature_reduction['No Reduction']['num_of_features_to_keep']\n",
    "#                 return data.iloc[:, :num_to_keep]\n",
    "#             else:\n",
    "#                 return \"No Reduction\"\n",
    "            \n",
    "#         elif i == \"Correlation with target\":\n",
    "#             if feature_reduction['Correlation with target']['is_selected'] == True:\n",
    "#                 num_to_keep = feature_reduction['Correlation with target']['num_of_features_to_keep']\n",
    "#                 selected_features=data.iloc[:, :num_to_keep].columns\n",
    "#                 selected_data = iris_data[selected_features]\n",
    "#                 # selected_data\n",
    "#                 try:\n",
    "#                     plt.figure(figsize=(10,8))\n",
    "#                     sns.heatmap(selected_data.corr(),annot=True,cmap=\"coolwarm\",fmt=\".2f\")\n",
    "#                     selected_features\n",
    "#                 except:\n",
    "#                     pass\n",
    "#                 return selected_data\n",
    "#             else:\n",
    "#                 return \"no Correlation with the target \"\n",
    "        \n",
    "#         elif i == \"Tree-based\":\n",
    "#             if feature_reduction[\"Tree-based\"]['is_selected'] == True:\n",
    "#                 clf = RandomForestRegressor(max_depth=feature_reduction[\"Tree-based\"]['depth_of_trees'],\n",
    "#                                             n_estimators=feature_reduction[\"Tree-based\"]['num_of_trees'])\n",
    "#                 Traing_data=Regression()\n",
    "#                 y=Traing_data[0]\n",
    "#                 x=Traing_data[1]\n",
    "#                 clf.fit(x,y)\n",
    "#                 feature_importances = clf.feature_importances_\n",
    "#                 print(feature_importances)\n",
    "#                 num_features_to_keep = feature_reduction[\"Tree-based\"]['num_of_features_to_keep']\n",
    "#                 selected_features_indices = feature_importances.argsort()[::-1][:num_features_to_keep]\n",
    "#                 selected_features = data.columns[selected_features_indices]\n",
    "#                 return feature_importances,selected_features \n",
    "#             else:\n",
    "#                 return \"no Correlation with the target \"\n",
    "        \n",
    "#         elif i == \"Principal Component Analysis\":\n",
    "#             if feature_reduction[\"Principal Component Analysis\"]['is_selected'] == True:\n",
    "#                 return data\n",
    "#             else:\n",
    "#                 return data\n",
    "        \n",
    "#         else:\n",
    "#             print(f\"Unknown feature reduction method: {i}\")\n",
    "#             return data\n",
    "\n",
    "\n",
    "#     # reduced_data = perform_feature_reduction(iris_data, feature_reduction)\n",
    "\n",
    "#     # print(reduced_data)\n"
   ]
  },
  {
   "cell_type": "code",
   "execution_count": null,
   "metadata": {},
   "outputs": [],
   "source": []
  },
  {
   "cell_type": "code",
   "execution_count": null,
   "metadata": {},
   "outputs": [],
   "source": []
  },
  {
   "cell_type": "code",
   "execution_count": null,
   "metadata": {},
   "outputs": [],
   "source": []
  },
  {
   "cell_type": "code",
   "execution_count": null,
   "metadata": {},
   "outputs": [],
   "source": []
  },
  {
   "cell_type": "code",
   "execution_count": null,
   "metadata": {},
   "outputs": [],
   "source": []
  },
  {
   "cell_type": "code",
   "execution_count": null,
   "metadata": {},
   "outputs": [],
   "source": []
  }
 ],
 "metadata": {
  "kernelspec": {
   "display_name": "Python 3",
   "language": "python",
   "name": "python3"
  },
  "language_info": {
   "codemirror_mode": {
    "name": "ipython",
    "version": 3
   },
   "file_extension": ".py",
   "mimetype": "text/x-python",
   "name": "python",
   "nbconvert_exporter": "python",
   "pygments_lexer": "ipython3",
   "version": "3.11.5"
  }
 },
 "nbformat": 4,
 "nbformat_minor": 2
}
